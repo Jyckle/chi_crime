{
 "cells": [
  {
   "cell_type": "code",
   "execution_count": 1,
   "metadata": {},
   "outputs": [],
   "source": [
    "import pandas as pd\n",
    "import numpy as np"
   ]
  },
  {
   "cell_type": "markdown",
   "metadata": {},
   "source": [
    "## Get the Data"
   ]
  },
  {
   "cell_type": "markdown",
   "metadata": {},
   "source": [
    "Note: before completing this step, the following steps should be run:\n",
    "* ChicagoPDData notebook\n",
    "* make all in main directory\n",
    "* make all in AoT_data/"
   ]
  },
  {
   "cell_type": "code",
   "execution_count": null,
   "metadata": {},
   "outputs": [],
   "source": [
    "# a_dir = 'AoT_data/'\n",
    "# node_loc_list = pd.read_csv(a_dir+'node_loc_list.csv',index_col=0)\n",
    "# feature_list = pd.read_csv (a_dir+'feature_list.csv')\n",
    "# full_data= pd.read_csv(a_dir+'fixed_data.csv')"
   ]
  },
  {
   "cell_type": "code",
   "execution_count": 2,
   "metadata": {},
   "outputs": [],
   "source": [
    "def create_crime_dict():\n",
    "    crime_dict = {}\n",
    "    with open('final_dat.csv','r') as file:\n",
    "        for line in file:\n",
    "            curr_line=line.strip().split(',')\n",
    "            if curr_line[0] not in crime_dict.keys():\n",
    "                crime_dict[curr_line[0]]={'coords':[]}\n",
    "            crime_dict[curr_line[0]]['coords'].append((float(curr_line[2]),float(curr_line[1])))\n",
    "    return crime_dict"
   ]
  },
  {
   "cell_type": "code",
   "execution_count": null,
   "metadata": {},
   "outputs": [],
   "source": [
    "#crime_dict=create_crime_dict()"
   ]
  },
  {
   "cell_type": "code",
   "execution_count": null,
   "metadata": {
    "scrolled": true
   },
   "outputs": [],
   "source": [
    "# full_data =full_data.loc[full_data['parameter']!='id']"
   ]
  },
  {
   "cell_type": "code",
   "execution_count": null,
   "metadata": {
    "scrolled": true
   },
   "outputs": [],
   "source": [
    "# full_data.shape"
   ]
  },
  {
   "cell_type": "code",
   "execution_count": null,
   "metadata": {
    "scrolled": false
   },
   "outputs": [],
   "source": [
    "# full_data.head()"
   ]
  },
  {
   "cell_type": "code",
   "execution_count": null,
   "metadata": {},
   "outputs": [],
   "source": [
    "# full_data.values.tolist()"
   ]
  },
  {
   "cell_type": "code",
   "execution_count": null,
   "metadata": {},
   "outputs": [],
   "source": [
    "# len(crime_data.index.unique())"
   ]
  },
  {
   "cell_type": "code",
   "execution_count": null,
   "metadata": {},
   "outputs": [],
   "source": [
    "# len(crime_data)"
   ]
  },
  {
   "cell_type": "code",
   "execution_count": null,
   "metadata": {},
   "outputs": [],
   "source": [
    "# node_loc_list.head()"
   ]
  },
  {
   "cell_type": "markdown",
   "metadata": {},
   "source": [
    "# Transform the Data"
   ]
  },
  {
   "cell_type": "markdown",
   "metadata": {},
   "source": [
    "There is a very large amount of data to handle here, so dictionaries are used for speed"
   ]
  },
  {
   "cell_type": "code",
   "execution_count": null,
   "metadata": {},
   "outputs": [],
   "source": [
    "#node_dict=node_loc_list.to_dict('index')\n",
    "#full_list=full_data.values.tolist()"
   ]
  },
  {
   "cell_type": "markdown",
   "metadata": {},
   "source": [
    "The function below takes a list version of the full data (obtained from full_data.values.tolist()) and converts it to a dictionary"
   ]
  },
  {
   "cell_type": "code",
   "execution_count": 3,
   "metadata": {},
   "outputs": [],
   "source": [
    "def get_full_dict(full_list,node_dict):\n",
    "    full_dict={}\n",
    "    for index,row in enumerate(full_list):\n",
    "        timestamp=row[0][0:13]\n",
    "        node_id=row[1]\n",
    "        full_id = str(timestamp)+'_'+str(node_id)\n",
    "        feature_name = str(row[3])+'_'+str(row[4])\n",
    "        value=row[5]\n",
    "        node_lat=node_dict[node_id]['lat']\n",
    "        node_lon=node_dict[node_id]['lon']\n",
    "        if not full_id in full_dict.keys():\n",
    "            full_dict[full_id]={}\n",
    "        full_dict[full_id][feature_name]=value\n",
    "        full_dict[full_id]['timestamp']=timestamp\n",
    "        full_dict[full_id]['node_id']=node_id\n",
    "        full_dict[full_id]['latitude']=node_lat\n",
    "        full_dict[full_id]['longitude']=node_lon\n",
    "    return full_dict"
   ]
  },
  {
   "cell_type": "code",
   "execution_count": null,
   "metadata": {},
   "outputs": [],
   "source": [
    "# get_full_dict(full)"
   ]
  },
  {
   "cell_type": "code",
   "execution_count": null,
   "metadata": {
    "scrolled": true
   },
   "outputs": [],
   "source": [
    "# len(full_dict)"
   ]
  },
  {
   "cell_type": "code",
   "execution_count": 21,
   "metadata": {},
   "outputs": [],
   "source": [
    "def add_labels(full_dict,crime_dict,max_dist=2):\n",
    "    for id in full_dict.keys():\n",
    "        label=0\n",
    "        timestamp=full_dict[id]['timestamp']\n",
    "        node_lat=full_dict[id]['latitude']\n",
    "        node_lon=full_dict[id]['longitude']\n",
    "        if timestamp in crime_dict.keys():\n",
    "            crime_coords=crime_dict[timestamp]['coords']\n",
    "            label = crime_occurrence_check((node_lat,node_lon),crime_coords,max_dist)\n",
    "        full_dict[id]['label']=label\n",
    "    return full_dict"
   ]
  },
  {
   "cell_type": "code",
   "execution_count": null,
   "metadata": {
    "scrolled": true
   },
   "outputs": [],
   "source": [
    "#next(iter(full_dict.values()))"
   ]
  },
  {
   "cell_type": "markdown",
   "metadata": {},
   "source": [
    "Note, the function below is not mine, it is pulled from [https://stackoverflow.com/questions/15736995/how-can-i-quickly-estimate-the-distance-between-two-latitude-longitude-points]"
   ]
  },
  {
   "cell_type": "code",
   "execution_count": 5,
   "metadata": {},
   "outputs": [],
   "source": [
    "from math import radians, cos, sin, asin, sqrt\n",
    "def haversine(lon1, lat1, lon2, lat2):\n",
    "    \"\"\"\n",
    "    Calculate the great circle distance between two points \n",
    "    on the earth (specified in decimal degrees)\n",
    "    \"\"\"\n",
    "    # convert decimal degrees to radians \n",
    "    lon1, lat1, lon2, lat2 = map(radians, [lon1, lat1, lon2, lat2])\n",
    "    # haversine formula \n",
    "    dlon = lon2 - lon1 \n",
    "    dlat = lat2 - lat1 \n",
    "    a = sin(dlat/2)**2 + cos(lat1) * cos(lat2) * sin(dlon/2)**2\n",
    "    c = 2 * asin(sqrt(a)) \n",
    "    # Radius of earth in kilometers is 6371\n",
    "    km = 6371* c\n",
    "    return km"
   ]
  },
  {
   "cell_type": "code",
   "execution_count": 6,
   "metadata": {},
   "outputs": [],
   "source": [
    "def crime_occurrence_check(node_coords,crime_coods_list,max_dist=2):\n",
    "    crime_occurred=0\n",
    "    for crime_coord in crime_coods_list:\n",
    "        if haversine(node_coords[1],node_coords[0],crime_coord[1],crime_coord[0]) < max_dist:\n",
    "            crime_occurred=1\n",
    "            return crime_occurred\n",
    "    return crime_occurred"
   ]
  },
  {
   "cell_type": "code",
   "execution_count": null,
   "metadata": {},
   "outputs": [],
   "source": [
    "# full_data = pd.DataFrame.from_dict(full_dict,orient='index')"
   ]
  },
  {
   "cell_type": "markdown",
   "metadata": {},
   "source": [
    "To decide an appropriate value for max_dist, let's look at the average minimum distance between the current nodes. We choose this statistic, as it means on average, the closest node is that far away. Thus, by assigning crimes only if they are less than this distance, we will on average only assign the crime to the closest node. "
   ]
  },
  {
   "cell_type": "code",
   "execution_count": 19,
   "metadata": {
    "scrolled": true
   },
   "outputs": [],
   "source": [
    "import statistics\n",
    "def find_avg_node_dist(node_loc_list):\n",
    "    distance_avgs=[]\n",
    "    for index,row in node_loc_list.iterrows():\n",
    "        base_lat=row[0]\n",
    "        base_lon=row[1]\n",
    "        distances=[]\n",
    "        for index2,row2 in node_loc_list.iterrows():\n",
    "            if index != index2:\n",
    "                distances.append(haversine(base_lon,base_lat,row2[1],row2[0]))  \n",
    "        distance_avgs.append(min([x for x in distances if x>0]))\n",
    "    return statistics.mean(distance_avgs)"
   ]
  },
  {
   "cell_type": "code",
   "execution_count": 20,
   "metadata": {},
   "outputs": [
    {
     "name": "stdout",
     "output_type": "stream",
     "text": [
      "2 km\n"
     ]
    }
   ],
   "source": [
    "import math\n",
    "a_dir = 'AoT_data/'\n",
    "node_loc_list = pd.read_csv(a_dir+'node_loc_list.csv',index_col=0)\n",
    "max_dist = math.ceil(find_avg_node_dist(node_loc_list))\n",
    "print(max_dist,\"km\")"
   ]
  },
  {
   "cell_type": "code",
   "execution_count": 22,
   "metadata": {},
   "outputs": [],
   "source": [
    "def get_full_set():\n",
    "    a_dir = 'AoT_data/'\n",
    "    node_loc_list = pd.read_csv(a_dir+'node_loc_list.csv',index_col=0)\n",
    "    max_dist = math.ceil(find_avg_node_dist(node_loc_list))\n",
    "    feature_list = pd.read_csv (a_dir+'feature_list.csv')\n",
    "    full_data= pd.read_csv(a_dir+'fixed_data.csv')\n",
    "    full_data =full_data.loc[full_data['parameter']!='id']\n",
    "    full_list=full_data.values.tolist()\n",
    "    node_dict=node_loc_list.to_dict('index')\n",
    "    full_dict=get_full_dict(full_list,node_dict)\n",
    "    crime_dict=create_crime_dict()\n",
    "    full_dict=add_labels(full_dict,crime_dict,max_dist)\n",
    "    labeled_data = pd.DataFrame.from_dict(full_dict,orient='index')\n",
    "    return labeled_data"
   ]
  },
  {
   "cell_type": "code",
   "execution_count": 11,
   "metadata": {},
   "outputs": [
    {
     "name": "stdout",
     "output_type": "stream",
     "text": [
      "--- 130.01387310028076 seconds ---\n"
     ]
    }
   ],
   "source": [
    "# NOTE: This cell takes around 2 minutes to run but does all of the data preprocessing\n",
    "import time\n",
    "start=time.time()\n",
    "labeled_data=get_full_set()\n",
    "print(\"--- %s seconds ---\" % (time.time() - start))"
   ]
  },
  {
   "cell_type": "code",
   "execution_count": 15,
   "metadata": {},
   "outputs": [
    {
     "name": "stdout",
     "output_type": "stream",
     "text": [
      "(546257, 145)\n"
     ]
    },
    {
     "data": {
      "text/html": [
       "<div>\n",
       "<style scoped>\n",
       "    .dataframe tbody tr th:only-of-type {\n",
       "        vertical-align: middle;\n",
       "    }\n",
       "\n",
       "    .dataframe tbody tr th {\n",
       "        vertical-align: top;\n",
       "    }\n",
       "\n",
       "    .dataframe thead th {\n",
       "        text-align: right;\n",
       "    }\n",
       "</style>\n",
       "<table border=\"1\" class=\"dataframe\">\n",
       "  <thead>\n",
       "    <tr style=\"text-align: right;\">\n",
       "      <th></th>\n",
       "      <th>bmp180_temperature</th>\n",
       "      <th>timestamp</th>\n",
       "      <th>htu21d_temperature</th>\n",
       "      <th>tsl250rd_intensity</th>\n",
       "      <th>longitude</th>\n",
       "      <th>tmp112_temperature</th>\n",
       "      <th>ml8511_intensity</th>\n",
       "      <th>label</th>\n",
       "      <th>pr103j2_temperature</th>\n",
       "      <th>tsl260rd_intensity</th>\n",
       "      <th>...</th>\n",
       "      <th>microphone_octave_6_intensity</th>\n",
       "      <th>microphone_octave_7_intensity</th>\n",
       "      <th>microphone_octave_5_intensity</th>\n",
       "      <th>microphone_octave_1_intensity</th>\n",
       "      <th>hist_g</th>\n",
       "      <th>microphone_octave_9_intensity</th>\n",
       "      <th>net_usb_tx</th>\n",
       "      <th>avg_b</th>\n",
       "      <th>microphone_octave_total_intensity</th>\n",
       "      <th>hist_r</th>\n",
       "    </tr>\n",
       "  </thead>\n",
       "  <tbody>\n",
       "    <tr>\n",
       "      <th>2017/03/28 17_001e0610ba46</th>\n",
       "      <td>28.695</td>\n",
       "      <td>2017/03/28 17</td>\n",
       "      <td>27.715</td>\n",
       "      <td>1.639</td>\n",
       "      <td>-87.627678</td>\n",
       "      <td>28.270</td>\n",
       "      <td>43.646</td>\n",
       "      <td>1</td>\n",
       "      <td>28.159</td>\n",
       "      <td>4.198</td>\n",
       "      <td>...</td>\n",
       "      <td>NaN</td>\n",
       "      <td>NaN</td>\n",
       "      <td>NaN</td>\n",
       "      <td>NaN</td>\n",
       "      <td>NaN</td>\n",
       "      <td>NaN</td>\n",
       "      <td>NaN</td>\n",
       "      <td>NaN</td>\n",
       "      <td>NaN</td>\n",
       "      <td>NaN</td>\n",
       "    </tr>\n",
       "    <tr>\n",
       "      <th>2017/03/28 19_001e0610ba46</th>\n",
       "      <td>29.483</td>\n",
       "      <td>2017/03/28 19</td>\n",
       "      <td>28.431</td>\n",
       "      <td>1.088</td>\n",
       "      <td>-87.627678</td>\n",
       "      <td>29.055</td>\n",
       "      <td>42.939</td>\n",
       "      <td>1</td>\n",
       "      <td>28.889</td>\n",
       "      <td>1.294</td>\n",
       "      <td>...</td>\n",
       "      <td>NaN</td>\n",
       "      <td>NaN</td>\n",
       "      <td>NaN</td>\n",
       "      <td>NaN</td>\n",
       "      <td>NaN</td>\n",
       "      <td>NaN</td>\n",
       "      <td>NaN</td>\n",
       "      <td>NaN</td>\n",
       "      <td>NaN</td>\n",
       "      <td>NaN</td>\n",
       "    </tr>\n",
       "    <tr>\n",
       "      <th>2017/03/28 20_001e0610ba46</th>\n",
       "      <td>31.011</td>\n",
       "      <td>2017/03/28 20</td>\n",
       "      <td>29.749</td>\n",
       "      <td>0.863</td>\n",
       "      <td>-87.627678</td>\n",
       "      <td>30.592</td>\n",
       "      <td>41.709</td>\n",
       "      <td>1</td>\n",
       "      <td>30.430</td>\n",
       "      <td>1.113</td>\n",
       "      <td>...</td>\n",
       "      <td>NaN</td>\n",
       "      <td>NaN</td>\n",
       "      <td>NaN</td>\n",
       "      <td>NaN</td>\n",
       "      <td>NaN</td>\n",
       "      <td>NaN</td>\n",
       "      <td>NaN</td>\n",
       "      <td>NaN</td>\n",
       "      <td>NaN</td>\n",
       "      <td>NaN</td>\n",
       "    </tr>\n",
       "    <tr>\n",
       "      <th>2017/03/28 21_001e0610ba46</th>\n",
       "      <td>31.211</td>\n",
       "      <td>2017/03/28 21</td>\n",
       "      <td>29.929</td>\n",
       "      <td>1.250</td>\n",
       "      <td>-87.627678</td>\n",
       "      <td>30.796</td>\n",
       "      <td>40.990</td>\n",
       "      <td>0</td>\n",
       "      <td>30.614</td>\n",
       "      <td>1.834</td>\n",
       "      <td>...</td>\n",
       "      <td>NaN</td>\n",
       "      <td>NaN</td>\n",
       "      <td>NaN</td>\n",
       "      <td>NaN</td>\n",
       "      <td>NaN</td>\n",
       "      <td>NaN</td>\n",
       "      <td>NaN</td>\n",
       "      <td>NaN</td>\n",
       "      <td>NaN</td>\n",
       "      <td>NaN</td>\n",
       "    </tr>\n",
       "    <tr>\n",
       "      <th>2017/03/28 22_001e0610ba46</th>\n",
       "      <td>31.422</td>\n",
       "      <td>2017/03/28 22</td>\n",
       "      <td>30.135</td>\n",
       "      <td>3.289</td>\n",
       "      <td>-87.627678</td>\n",
       "      <td>30.986</td>\n",
       "      <td>40.849</td>\n",
       "      <td>1</td>\n",
       "      <td>30.834</td>\n",
       "      <td>10.466</td>\n",
       "      <td>...</td>\n",
       "      <td>NaN</td>\n",
       "      <td>NaN</td>\n",
       "      <td>NaN</td>\n",
       "      <td>NaN</td>\n",
       "      <td>NaN</td>\n",
       "      <td>NaN</td>\n",
       "      <td>NaN</td>\n",
       "      <td>NaN</td>\n",
       "      <td>NaN</td>\n",
       "      <td>NaN</td>\n",
       "    </tr>\n",
       "  </tbody>\n",
       "</table>\n",
       "<p>5 rows × 145 columns</p>\n",
       "</div>"
      ],
      "text/plain": [
       "                            bmp180_temperature      timestamp  \\\n",
       "2017/03/28 17_001e0610ba46              28.695  2017/03/28 17   \n",
       "2017/03/28 19_001e0610ba46              29.483  2017/03/28 19   \n",
       "2017/03/28 20_001e0610ba46              31.011  2017/03/28 20   \n",
       "2017/03/28 21_001e0610ba46              31.211  2017/03/28 21   \n",
       "2017/03/28 22_001e0610ba46              31.422  2017/03/28 22   \n",
       "\n",
       "                            htu21d_temperature  tsl250rd_intensity  longitude  \\\n",
       "2017/03/28 17_001e0610ba46              27.715               1.639 -87.627678   \n",
       "2017/03/28 19_001e0610ba46              28.431               1.088 -87.627678   \n",
       "2017/03/28 20_001e0610ba46              29.749               0.863 -87.627678   \n",
       "2017/03/28 21_001e0610ba46              29.929               1.250 -87.627678   \n",
       "2017/03/28 22_001e0610ba46              30.135               3.289 -87.627678   \n",
       "\n",
       "                            tmp112_temperature  ml8511_intensity  label  \\\n",
       "2017/03/28 17_001e0610ba46              28.270            43.646      1   \n",
       "2017/03/28 19_001e0610ba46              29.055            42.939      1   \n",
       "2017/03/28 20_001e0610ba46              30.592            41.709      1   \n",
       "2017/03/28 21_001e0610ba46              30.796            40.990      0   \n",
       "2017/03/28 22_001e0610ba46              30.986            40.849      1   \n",
       "\n",
       "                            pr103j2_temperature  tsl260rd_intensity  ...  \\\n",
       "2017/03/28 17_001e0610ba46               28.159               4.198  ...   \n",
       "2017/03/28 19_001e0610ba46               28.889               1.294  ...   \n",
       "2017/03/28 20_001e0610ba46               30.430               1.113  ...   \n",
       "2017/03/28 21_001e0610ba46               30.614               1.834  ...   \n",
       "2017/03/28 22_001e0610ba46               30.834              10.466  ...   \n",
       "\n",
       "                            microphone_octave_6_intensity  \\\n",
       "2017/03/28 17_001e0610ba46                            NaN   \n",
       "2017/03/28 19_001e0610ba46                            NaN   \n",
       "2017/03/28 20_001e0610ba46                            NaN   \n",
       "2017/03/28 21_001e0610ba46                            NaN   \n",
       "2017/03/28 22_001e0610ba46                            NaN   \n",
       "\n",
       "                            microphone_octave_7_intensity  \\\n",
       "2017/03/28 17_001e0610ba46                            NaN   \n",
       "2017/03/28 19_001e0610ba46                            NaN   \n",
       "2017/03/28 20_001e0610ba46                            NaN   \n",
       "2017/03/28 21_001e0610ba46                            NaN   \n",
       "2017/03/28 22_001e0610ba46                            NaN   \n",
       "\n",
       "                            microphone_octave_5_intensity  \\\n",
       "2017/03/28 17_001e0610ba46                            NaN   \n",
       "2017/03/28 19_001e0610ba46                            NaN   \n",
       "2017/03/28 20_001e0610ba46                            NaN   \n",
       "2017/03/28 21_001e0610ba46                            NaN   \n",
       "2017/03/28 22_001e0610ba46                            NaN   \n",
       "\n",
       "                            microphone_octave_1_intensity  hist_g  \\\n",
       "2017/03/28 17_001e0610ba46                            NaN     NaN   \n",
       "2017/03/28 19_001e0610ba46                            NaN     NaN   \n",
       "2017/03/28 20_001e0610ba46                            NaN     NaN   \n",
       "2017/03/28 21_001e0610ba46                            NaN     NaN   \n",
       "2017/03/28 22_001e0610ba46                            NaN     NaN   \n",
       "\n",
       "                            microphone_octave_9_intensity  net_usb_tx  avg_b  \\\n",
       "2017/03/28 17_001e0610ba46                            NaN         NaN    NaN   \n",
       "2017/03/28 19_001e0610ba46                            NaN         NaN    NaN   \n",
       "2017/03/28 20_001e0610ba46                            NaN         NaN    NaN   \n",
       "2017/03/28 21_001e0610ba46                            NaN         NaN    NaN   \n",
       "2017/03/28 22_001e0610ba46                            NaN         NaN    NaN   \n",
       "\n",
       "                           microphone_octave_total_intensity  hist_r  \n",
       "2017/03/28 17_001e0610ba46                               NaN     NaN  \n",
       "2017/03/28 19_001e0610ba46                               NaN     NaN  \n",
       "2017/03/28 20_001e0610ba46                               NaN     NaN  \n",
       "2017/03/28 21_001e0610ba46                               NaN     NaN  \n",
       "2017/03/28 22_001e0610ba46                               NaN     NaN  \n",
       "\n",
       "[5 rows x 145 columns]"
      ]
     },
     "execution_count": 15,
     "metadata": {},
     "output_type": "execute_result"
    }
   ],
   "source": [
    "print(labeled_data.shape)\n",
    "labeled_data.head()"
   ]
  },
  {
   "cell_type": "code",
   "execution_count": 102,
   "metadata": {},
   "outputs": [],
   "source": [
    "labeled_data =labeled_data.fillna(0)"
   ]
  },
  {
   "cell_type": "code",
   "execution_count": 106,
   "metadata": {},
   "outputs": [
    {
     "name": "stdout",
     "output_type": "stream",
     "text": [
      "409665\n"
     ]
    },
    {
     "data": {
      "text/plain": [
       "136592"
      ]
     },
     "execution_count": 106,
     "metadata": {},
     "output_type": "execute_result"
    }
   ],
   "source": [
    "print(len(labeled_data[labeled_data['label']==0]))\n",
    "len(labeled_data[labeled_data['label']==1])"
   ]
  },
  {
   "cell_type": "markdown",
   "metadata": {},
   "source": [
    "## Split out the train, dev, and test set"
   ]
  },
  {
   "cell_type": "markdown",
   "metadata": {},
   "source": [
    "At this point, we want to split the data into training, development, and test sets"
   ]
  },
  {
   "cell_type": "code",
   "execution_count": 69,
   "metadata": {},
   "outputs": [],
   "source": [
    "from sklearn.model_selection import train_test_split"
   ]
  },
  {
   "cell_type": "markdown",
   "metadata": {},
   "source": [
    "We want our X to be all values except the label,timestamp, and node_id as these should be the only non_numerical features"
   ]
  },
  {
   "cell_type": "code",
   "execution_count": 70,
   "metadata": {},
   "outputs": [],
   "source": [
    "All_X = labeled_data.drop(['label','timestamp','node_id'],axis=1)\n",
    "All_y = labeled_data['label']"
   ]
  },
  {
   "cell_type": "code",
   "execution_count": 71,
   "metadata": {},
   "outputs": [
    {
     "data": {
      "text/html": [
       "<div>\n",
       "<style scoped>\n",
       "    .dataframe tbody tr th:only-of-type {\n",
       "        vertical-align: middle;\n",
       "    }\n",
       "\n",
       "    .dataframe tbody tr th {\n",
       "        vertical-align: top;\n",
       "    }\n",
       "\n",
       "    .dataframe thead th {\n",
       "        text-align: right;\n",
       "    }\n",
       "</style>\n",
       "<table border=\"1\" class=\"dataframe\">\n",
       "  <thead>\n",
       "    <tr style=\"text-align: right;\">\n",
       "      <th></th>\n",
       "      <th>bmp180_temperature</th>\n",
       "      <th>htu21d_temperature</th>\n",
       "      <th>tsl250rd_intensity</th>\n",
       "      <th>longitude</th>\n",
       "      <th>tmp112_temperature</th>\n",
       "      <th>ml8511_intensity</th>\n",
       "      <th>pr103j2_temperature</th>\n",
       "      <th>tsl260rd_intensity</th>\n",
       "      <th>hih6130_temperature</th>\n",
       "      <th>bmp180_pressure</th>\n",
       "      <th>...</th>\n",
       "      <th>microphone_octave_6_intensity</th>\n",
       "      <th>microphone_octave_7_intensity</th>\n",
       "      <th>microphone_octave_5_intensity</th>\n",
       "      <th>microphone_octave_1_intensity</th>\n",
       "      <th>hist_g</th>\n",
       "      <th>microphone_octave_9_intensity</th>\n",
       "      <th>net_usb_tx</th>\n",
       "      <th>avg_b</th>\n",
       "      <th>microphone_octave_total_intensity</th>\n",
       "      <th>hist_r</th>\n",
       "    </tr>\n",
       "  </thead>\n",
       "  <tbody>\n",
       "    <tr>\n",
       "      <th>2017/03/28 17_001e0610ba46</th>\n",
       "      <td>28.695</td>\n",
       "      <td>27.715</td>\n",
       "      <td>1.639</td>\n",
       "      <td>-87.627678</td>\n",
       "      <td>28.270</td>\n",
       "      <td>43.646</td>\n",
       "      <td>28.159</td>\n",
       "      <td>4.198</td>\n",
       "      <td>30.867</td>\n",
       "      <td>996.139</td>\n",
       "      <td>...</td>\n",
       "      <td>0.0</td>\n",
       "      <td>0.0</td>\n",
       "      <td>0.0</td>\n",
       "      <td>0.0</td>\n",
       "      <td>0.0</td>\n",
       "      <td>0.0</td>\n",
       "      <td>0.0</td>\n",
       "      <td>0.0</td>\n",
       "      <td>0.0</td>\n",
       "      <td>0.0</td>\n",
       "    </tr>\n",
       "    <tr>\n",
       "      <th>2017/03/28 19_001e0610ba46</th>\n",
       "      <td>29.483</td>\n",
       "      <td>28.431</td>\n",
       "      <td>1.088</td>\n",
       "      <td>-87.627678</td>\n",
       "      <td>29.055</td>\n",
       "      <td>42.939</td>\n",
       "      <td>28.889</td>\n",
       "      <td>1.294</td>\n",
       "      <td>33.923</td>\n",
       "      <td>996.390</td>\n",
       "      <td>...</td>\n",
       "      <td>0.0</td>\n",
       "      <td>0.0</td>\n",
       "      <td>0.0</td>\n",
       "      <td>0.0</td>\n",
       "      <td>0.0</td>\n",
       "      <td>0.0</td>\n",
       "      <td>0.0</td>\n",
       "      <td>0.0</td>\n",
       "      <td>0.0</td>\n",
       "      <td>0.0</td>\n",
       "    </tr>\n",
       "    <tr>\n",
       "      <th>2017/03/28 20_001e0610ba46</th>\n",
       "      <td>31.011</td>\n",
       "      <td>29.749</td>\n",
       "      <td>0.863</td>\n",
       "      <td>-87.627678</td>\n",
       "      <td>30.592</td>\n",
       "      <td>41.709</td>\n",
       "      <td>30.430</td>\n",
       "      <td>1.113</td>\n",
       "      <td>41.583</td>\n",
       "      <td>996.742</td>\n",
       "      <td>...</td>\n",
       "      <td>0.0</td>\n",
       "      <td>0.0</td>\n",
       "      <td>0.0</td>\n",
       "      <td>0.0</td>\n",
       "      <td>0.0</td>\n",
       "      <td>0.0</td>\n",
       "      <td>0.0</td>\n",
       "      <td>0.0</td>\n",
       "      <td>0.0</td>\n",
       "      <td>0.0</td>\n",
       "    </tr>\n",
       "    <tr>\n",
       "      <th>2017/03/28 21_001e0610ba46</th>\n",
       "      <td>31.211</td>\n",
       "      <td>29.929</td>\n",
       "      <td>1.250</td>\n",
       "      <td>-87.627678</td>\n",
       "      <td>30.796</td>\n",
       "      <td>40.990</td>\n",
       "      <td>30.614</td>\n",
       "      <td>1.834</td>\n",
       "      <td>46.087</td>\n",
       "      <td>996.900</td>\n",
       "      <td>...</td>\n",
       "      <td>0.0</td>\n",
       "      <td>0.0</td>\n",
       "      <td>0.0</td>\n",
       "      <td>0.0</td>\n",
       "      <td>0.0</td>\n",
       "      <td>0.0</td>\n",
       "      <td>0.0</td>\n",
       "      <td>0.0</td>\n",
       "      <td>0.0</td>\n",
       "      <td>0.0</td>\n",
       "    </tr>\n",
       "    <tr>\n",
       "      <th>2017/03/28 22_001e0610ba46</th>\n",
       "      <td>31.422</td>\n",
       "      <td>30.135</td>\n",
       "      <td>3.289</td>\n",
       "      <td>-87.627678</td>\n",
       "      <td>30.986</td>\n",
       "      <td>40.849</td>\n",
       "      <td>30.834</td>\n",
       "      <td>10.466</td>\n",
       "      <td>46.942</td>\n",
       "      <td>997.139</td>\n",
       "      <td>...</td>\n",
       "      <td>0.0</td>\n",
       "      <td>0.0</td>\n",
       "      <td>0.0</td>\n",
       "      <td>0.0</td>\n",
       "      <td>0.0</td>\n",
       "      <td>0.0</td>\n",
       "      <td>0.0</td>\n",
       "      <td>0.0</td>\n",
       "      <td>0.0</td>\n",
       "      <td>0.0</td>\n",
       "    </tr>\n",
       "  </tbody>\n",
       "</table>\n",
       "<p>5 rows × 142 columns</p>\n",
       "</div>"
      ],
      "text/plain": [
       "                            bmp180_temperature  htu21d_temperature  \\\n",
       "2017/03/28 17_001e0610ba46              28.695              27.715   \n",
       "2017/03/28 19_001e0610ba46              29.483              28.431   \n",
       "2017/03/28 20_001e0610ba46              31.011              29.749   \n",
       "2017/03/28 21_001e0610ba46              31.211              29.929   \n",
       "2017/03/28 22_001e0610ba46              31.422              30.135   \n",
       "\n",
       "                            tsl250rd_intensity  longitude  tmp112_temperature  \\\n",
       "2017/03/28 17_001e0610ba46               1.639 -87.627678              28.270   \n",
       "2017/03/28 19_001e0610ba46               1.088 -87.627678              29.055   \n",
       "2017/03/28 20_001e0610ba46               0.863 -87.627678              30.592   \n",
       "2017/03/28 21_001e0610ba46               1.250 -87.627678              30.796   \n",
       "2017/03/28 22_001e0610ba46               3.289 -87.627678              30.986   \n",
       "\n",
       "                            ml8511_intensity  pr103j2_temperature  \\\n",
       "2017/03/28 17_001e0610ba46            43.646               28.159   \n",
       "2017/03/28 19_001e0610ba46            42.939               28.889   \n",
       "2017/03/28 20_001e0610ba46            41.709               30.430   \n",
       "2017/03/28 21_001e0610ba46            40.990               30.614   \n",
       "2017/03/28 22_001e0610ba46            40.849               30.834   \n",
       "\n",
       "                            tsl260rd_intensity  hih6130_temperature  \\\n",
       "2017/03/28 17_001e0610ba46               4.198               30.867   \n",
       "2017/03/28 19_001e0610ba46               1.294               33.923   \n",
       "2017/03/28 20_001e0610ba46               1.113               41.583   \n",
       "2017/03/28 21_001e0610ba46               1.834               46.087   \n",
       "2017/03/28 22_001e0610ba46              10.466               46.942   \n",
       "\n",
       "                            bmp180_pressure  ...  \\\n",
       "2017/03/28 17_001e0610ba46          996.139  ...   \n",
       "2017/03/28 19_001e0610ba46          996.390  ...   \n",
       "2017/03/28 20_001e0610ba46          996.742  ...   \n",
       "2017/03/28 21_001e0610ba46          996.900  ...   \n",
       "2017/03/28 22_001e0610ba46          997.139  ...   \n",
       "\n",
       "                            microphone_octave_6_intensity  \\\n",
       "2017/03/28 17_001e0610ba46                            0.0   \n",
       "2017/03/28 19_001e0610ba46                            0.0   \n",
       "2017/03/28 20_001e0610ba46                            0.0   \n",
       "2017/03/28 21_001e0610ba46                            0.0   \n",
       "2017/03/28 22_001e0610ba46                            0.0   \n",
       "\n",
       "                            microphone_octave_7_intensity  \\\n",
       "2017/03/28 17_001e0610ba46                            0.0   \n",
       "2017/03/28 19_001e0610ba46                            0.0   \n",
       "2017/03/28 20_001e0610ba46                            0.0   \n",
       "2017/03/28 21_001e0610ba46                            0.0   \n",
       "2017/03/28 22_001e0610ba46                            0.0   \n",
       "\n",
       "                            microphone_octave_5_intensity  \\\n",
       "2017/03/28 17_001e0610ba46                            0.0   \n",
       "2017/03/28 19_001e0610ba46                            0.0   \n",
       "2017/03/28 20_001e0610ba46                            0.0   \n",
       "2017/03/28 21_001e0610ba46                            0.0   \n",
       "2017/03/28 22_001e0610ba46                            0.0   \n",
       "\n",
       "                            microphone_octave_1_intensity  hist_g  \\\n",
       "2017/03/28 17_001e0610ba46                            0.0     0.0   \n",
       "2017/03/28 19_001e0610ba46                            0.0     0.0   \n",
       "2017/03/28 20_001e0610ba46                            0.0     0.0   \n",
       "2017/03/28 21_001e0610ba46                            0.0     0.0   \n",
       "2017/03/28 22_001e0610ba46                            0.0     0.0   \n",
       "\n",
       "                            microphone_octave_9_intensity  net_usb_tx  avg_b  \\\n",
       "2017/03/28 17_001e0610ba46                            0.0         0.0    0.0   \n",
       "2017/03/28 19_001e0610ba46                            0.0         0.0    0.0   \n",
       "2017/03/28 20_001e0610ba46                            0.0         0.0    0.0   \n",
       "2017/03/28 21_001e0610ba46                            0.0         0.0    0.0   \n",
       "2017/03/28 22_001e0610ba46                            0.0         0.0    0.0   \n",
       "\n",
       "                            microphone_octave_total_intensity  hist_r  \n",
       "2017/03/28 17_001e0610ba46                                0.0     0.0  \n",
       "2017/03/28 19_001e0610ba46                                0.0     0.0  \n",
       "2017/03/28 20_001e0610ba46                                0.0     0.0  \n",
       "2017/03/28 21_001e0610ba46                                0.0     0.0  \n",
       "2017/03/28 22_001e0610ba46                                0.0     0.0  \n",
       "\n",
       "[5 rows x 142 columns]"
      ]
     },
     "execution_count": 71,
     "metadata": {},
     "output_type": "execute_result"
    }
   ],
   "source": [
    "All_X.head()"
   ]
  },
  {
   "cell_type": "code",
   "execution_count": 72,
   "metadata": {},
   "outputs": [
    {
     "data": {
      "text/plain": [
       "2017/03/28 17_001e0610ba46    1\n",
       "2017/03/28 19_001e0610ba46    1\n",
       "2017/03/28 20_001e0610ba46    1\n",
       "2017/03/28 21_001e0610ba46    0\n",
       "2017/03/28 22_001e0610ba46    1\n",
       "Name: label, dtype: int64"
      ]
     },
     "execution_count": 72,
     "metadata": {},
     "output_type": "execute_result"
    }
   ],
   "source": [
    "All_y.head()"
   ]
  },
  {
   "cell_type": "code",
   "execution_count": 73,
   "metadata": {},
   "outputs": [],
   "source": [
    "X,X_test,y,y_test=train_test_split(All_X,All_y,test_size=0.2,random_state=42)"
   ]
  },
  {
   "cell_type": "markdown",
   "metadata": {},
   "source": [
    "We will now never ever look at X_test and y_test, and will leave them until the very end of the process"
   ]
  },
  {
   "cell_type": "markdown",
   "metadata": {},
   "source": [
    "We do also want a development set, so we split again"
   ]
  },
  {
   "cell_type": "code",
   "execution_count": 74,
   "metadata": {},
   "outputs": [],
   "source": [
    "X_train,X_dev,y_train,y_dev=train_test_split(X,y,test_size=0.1,random_state=42)"
   ]
  },
  {
   "cell_type": "code",
   "execution_count": 75,
   "metadata": {},
   "outputs": [
    {
     "name": "stdout",
     "output_type": "stream",
     "text": [
      "X_train:  (393304, 142) Y_train:  (393304,)\n",
      "X_dev:  (43701, 142) Y_dev:  (43701,)\n"
     ]
    }
   ],
   "source": [
    "print('X_train: ',X_train.shape,'Y_train: ',y_train.shape)\n",
    "print('X_dev: ',X_dev.shape, 'Y_dev: ',y_dev.shape)"
   ]
  },
  {
   "cell_type": "markdown",
   "metadata": {},
   "source": [
    "Perfect! Now we have something we can work with!"
   ]
  },
  {
   "cell_type": "markdown",
   "metadata": {},
   "source": [
    "## Scaling the features"
   ]
  },
  {
   "cell_type": "code",
   "execution_count": 109,
   "metadata": {},
   "outputs": [],
   "source": [
    "from sklearn.preprocessing import StandardScaler\n",
    "X_train_scaled = StandardScaler().fit_transform(X_train)\n",
    "X_dev_scaled = StandardScaler().fit_transform(X_dev)"
   ]
  },
  {
   "cell_type": "code",
   "execution_count": 114,
   "metadata": {},
   "outputs": [
    {
     "name": "stdout",
     "output_type": "stream",
     "text": [
      "98496 294808\n"
     ]
    }
   ],
   "source": [
    "print(len([x for x in y_train if x==1]), len([x for x in y_train if x==0]))"
   ]
  },
  {
   "cell_type": "markdown",
   "metadata": {},
   "source": [
    "# Trying different algorithms"
   ]
  },
  {
   "cell_type": "code",
   "execution_count": 97,
   "metadata": {},
   "outputs": [
    {
     "name": "stderr",
     "output_type": "stream",
     "text": [
      "/home/jyckle/ws/chicago/env/lib/python3.5/site-packages/sklearn/linear_model/logistic.py:758: ConvergenceWarning: lbfgs failed to converge. Increase the number of iterations.\n",
      "  \"of iterations.\", ConvergenceWarning)\n"
     ]
    },
    {
     "data": {
      "text/plain": [
       "LogisticRegression(C=1.0, class_weight=None, dual=False, fit_intercept=True,\n",
       "          intercept_scaling=1, max_iter=1000, multi_class='warn',\n",
       "          n_jobs=None, penalty='l2', random_state=0, solver='lbfgs',\n",
       "          tol=0.0001, verbose=0, warm_start=False)"
      ]
     },
     "execution_count": 97,
     "metadata": {},
     "output_type": "execute_result"
    }
   ],
   "source": [
    "from sklearn.linear_model import LogisticRegression\n",
    "clf = LogisticRegression(C=1.0,random_state=0, solver='lbfgs',max_iter=1000)\n",
    "clf.fit(X_train_scaled, y_train)"
   ]
  },
  {
   "cell_type": "code",
   "execution_count": 120,
   "metadata": {},
   "outputs": [],
   "source": [
    "def evaluate_model(clf):\n",
    "    from sklearn.metrics import accuracy_score\n",
    "    from sklearn.metrics import recall_score\n",
    "    from sklearn.metrics import precision_score\n",
    "\n",
    "    y_train_pred=clf.predict(X_train_scaled)\n",
    "    y_dev_pred=clf.predict(X_dev_scaled)\n",
    "\n",
    "    print('train_acc: ', accuracy_score(y_train,y_train_pred),'dev_acc: ', accuracy_score(y_dev,y_dev_pred), '\\n',\n",
    "          'train_rec: ',recall_score(y_train,y_train_pred),'dev_rec: ',recall_score(y_dev,y_dev_pred), '\\n',\n",
    "          'train_pre: ',precision_score(y_train,y_train_pred),'dev_pre: ',precision_score(y_dev,y_dev_pred))  "
   ]
  },
  {
   "cell_type": "code",
   "execution_count": 107,
   "metadata": {},
   "outputs": [
    {
     "data": {
      "text/plain": [
       "RandomForestClassifier(bootstrap=True, class_weight=None, criterion='gini',\n",
       "            max_depth=2, max_features='auto', max_leaf_nodes=None,\n",
       "            min_impurity_decrease=0.0, min_impurity_split=None,\n",
       "            min_samples_leaf=1, min_samples_split=2,\n",
       "            min_weight_fraction_leaf=0.0, n_estimators=100, n_jobs=None,\n",
       "            oob_score=False, random_state=0, verbose=0, warm_start=False)"
      ]
     },
     "execution_count": 107,
     "metadata": {},
     "output_type": "execute_result"
    }
   ],
   "source": [
    "from sklearn.ensemble import RandomForestClassifier\n",
    "clf = RandomForestClassifier(n_estimators=100, max_depth=2,random_state=0)\n",
    "clf.fit(X_train_scaled,y_train)"
   ]
  },
  {
   "cell_type": "code",
   "execution_count": 108,
   "metadata": {
    "scrolled": true
   },
   "outputs": [
    {
     "name": "stdout",
     "output_type": "stream",
     "text": [
      "training accuracy:  0.7495677643756483 \n",
      " training recall:  0.0 \n",
      " training precision:  0.0\n",
      "dev accuracy:  0.7467106015880643 \n",
      " dev recall:  0.0 \n",
      " dev precision:  0.0\n"
     ]
    },
    {
     "name": "stderr",
     "output_type": "stream",
     "text": [
      "/home/jyckle/ws/chicago/env/lib/python3.5/site-packages/sklearn/metrics/classification.py:1143: UndefinedMetricWarning: Precision is ill-defined and being set to 0.0 due to no predicted samples.\n",
      "  'precision', 'predicted', average, warn_for)\n",
      "/home/jyckle/ws/chicago/env/lib/python3.5/site-packages/sklearn/metrics/classification.py:1143: UndefinedMetricWarning: Precision is ill-defined and being set to 0.0 due to no predicted samples.\n",
      "  'precision', 'predicted', average, warn_for)\n"
     ]
    }
   ],
   "source": [
    "from sklearn.metrics import accuracy_score\n",
    "from sklearn.metrics import recall_score\n",
    "from sklearn.metrics import precision_score\n",
    "\n",
    "y_train_pred=clf.predict(X_train_scaled)\n",
    "\n",
    "print('training accuracy: ', accuracy_score(y_train,y_train_pred), '\\n',\n",
    "      'training recall: ',recall_score(y_train,y_train_pred), '\\n',\n",
    "      'training precision: ',precision_score(y_train,y_train_pred))\n",
    "\n",
    "y_dev_pred=clf.predict(X_dev_scaled)\n",
    "print('dev accuracy: ', accuracy_score(y_dev,y_dev_pred), '\\n',\n",
    "      'dev recall: ',recall_score(y_dev,y_dev_pred), '\\n',\n",
    "      'dev precision: ',precision_score(y_dev,y_dev_pred))"
   ]
  },
  {
   "cell_type": "code",
   "execution_count": 128,
   "metadata": {},
   "outputs": [
    {
     "data": {
      "text/plain": [
       "DecisionTreeClassifier(class_weight=None, criterion='gini', max_depth=10,\n",
       "            max_features=None, max_leaf_nodes=None,\n",
       "            min_impurity_decrease=0.0, min_impurity_split=None,\n",
       "            min_samples_leaf=1, min_samples_split=2,\n",
       "            min_weight_fraction_leaf=0.0, presort=False, random_state=0,\n",
       "            splitter='best')"
      ]
     },
     "execution_count": 128,
     "metadata": {},
     "output_type": "execute_result"
    }
   ],
   "source": [
    "from sklearn.tree import DecisionTreeClassifier\n",
    "clf = DecisionTreeClassifier(random_state=0,max_depth=10)\n",
    "clf.fit(X_train_scaled, y_train)"
   ]
  },
  {
   "cell_type": "code",
   "execution_count": 129,
   "metadata": {},
   "outputs": [
    {
     "name": "stdout",
     "output_type": "stream",
     "text": [
      "train_acc:  0.7611287960458069 dev_acc:  0.7460012356696644 \n",
      " train_rec:  0.20031270305393112 dev_rec:  0.1897190351431927 \n",
      " train_pre:  0.565119010110847 dev_pre:  0.4963365634601749\n"
     ]
    }
   ],
   "source": [
    "evaluate_model(clf)"
   ]
  },
  {
   "cell_type": "code",
   "execution_count": null,
   "metadata": {},
   "outputs": [],
   "source": []
  },
  {
   "cell_type": "code",
   "execution_count": 132,
   "metadata": {},
   "outputs": [
    {
     "name": "stderr",
     "output_type": "stream",
     "text": [
      "/home/jyckle/ws/chicago/env/lib/python3.5/site-packages/sklearn/svm/base.py:931: ConvergenceWarning: Liblinear failed to converge, increase the number of iterations.\n",
      "  \"the number of iterations.\", ConvergenceWarning)\n"
     ]
    },
    {
     "data": {
      "image/png": "[encoded data removed]",
      "text/plain": [
       "<Figure size 432x288 with 1 Axes>"
      ]
     },
     "metadata": {
      "needs_background": "light"
     },
     "output_type": "display_data"
    }
   ],
   "source": [
    "import sklearn.svm\n",
    "import sklearn.metrics\n",
    "from matplotlib import pyplot as plt\n",
    "\n",
    "clf = sklearn.svm.LinearSVC().fit(X_train_scaled, y_train)\n",
    "decision_values = clf.decision_function(X_train_scaled)\n",
    "\n",
    "precision, recall, thresholds = sklearn.metrics.precision_recall_curve(y_train, decision_values)\n",
    "\n",
    "plt.plot(recall, precision)\n",
    "plt.show()"
   ]
  },
  {
   "cell_type": "code",
   "execution_count": 133,
   "metadata": {},
   "outputs": [
    {
     "name": "stdout",
     "output_type": "stream",
     "text": [
      "train_acc:  0.7463234546305149 dev_acc:  0.7460698839843481 \n",
      " train_rec:  0.030742365172189732 dev_rec:  0.0093956093594724 \n",
      " train_pre:  0.41298417894162576 dev_pre:  0.4406779661016949\n"
     ]
    }
   ],
   "source": [
    "evaluate_model(clf)"
   ]
  },
  {
   "cell_type": "markdown",
   "metadata": {},
   "source": [
    "Try a neural network"
   ]
  },
  {
   "cell_type": "code",
   "execution_count": 143,
   "metadata": {},
   "outputs": [],
   "source": [
    "from keras.models import Sequential\n",
    "from keras.layers import Dense, Dropout\n",
    "keras_model = Sequential()\n",
    "keras_model.add(Dense(10, input_shape = (len(X_train_scaled[0]),),activation='relu'))\n",
    "keras_model.add(Dropout(0.2)) \n",
    "keras_model.add(Dense(10, activation='relu'))\n",
    "keras_model.add(Dense(1, activation='sigmoid'))\n",
    "keras_model.compile(loss='binary_crossentropy',optimizer='adam',metrics=['accuracy'])"
   ]
  },
  {
   "cell_type": "code",
   "execution_count": 144,
   "metadata": {
    "scrolled": true
   },
   "outputs": [
    {
     "name": "stdout",
     "output_type": "stream",
     "text": [
      "Train on 393304 samples, validate on 43701 samples\n",
      "Epoch 1/5\n",
      "393304/393304 [==============================] - 17s 44us/step - loss: 0.5354 - acc: 0.7494 - sparse_categorical_accuracy: 0.7496 - val_loss: 0.5295 - val_acc: 0.7479 - val_sparse_categorical_accuracy: 0.7467\n",
      "Epoch 2/5\n",
      "393304/393304 [==============================] - 17s 43us/step - loss: 0.5271 - acc: 0.7501 - sparse_categorical_accuracy: 0.7496 - val_loss: 0.5256 - val_acc: 0.7485 - val_sparse_categorical_accuracy: 0.7467\n",
      "Epoch 3/5\n",
      "393304/393304 [==============================] - 17s 43us/step - loss: 0.5230 - acc: 0.7513 - sparse_categorical_accuracy: 0.7496 - val_loss: 0.5231 - val_acc: 0.7488 - val_sparse_categorical_accuracy: 0.7467\n",
      "Epoch 4/5\n",
      "393304/393304 [==============================] - 17s 43us/step - loss: 0.5201 - acc: 0.7521 - sparse_categorical_accuracy: 0.7496 - val_loss: 0.5211 - val_acc: 0.7500 - val_sparse_categorical_accuracy: 0.7467\n",
      "Epoch 5/5\n",
      "393304/393304 [==============================] - 17s 42us/step - loss: 0.5190 - acc: 0.7524 - sparse_categorical_accuracy: 0.7496 - val_loss: 0.5211 - val_acc: 0.7502 - val_sparse_categorical_accuracy: 0.7467\n"
     ]
    },
    {
     "data": {
      "text/plain": [
       "<keras.callbacks.History at 0x7fe2656b9080>"
      ]
     },
     "execution_count": 144,
     "metadata": {},
     "output_type": "execute_result"
    }
   ],
   "source": [
    "keras_model.fit(X_train_scaled, y_train, epochs=5,validation_data=(X_dev_scaled,y_dev))"
   ]
  },
  {
   "cell_type": "code",
   "execution_count": 146,
   "metadata": {},
   "outputs": [],
   "source": [
    "results =keras_model.predict(X_train_scaled)"
   ]
  },
  {
   "cell_type": "code",
   "execution_count": 149,
   "metadata": {},
   "outputs": [
    {
     "data": {
      "text/plain": [
       "array([0.6981374], dtype=float32)"
      ]
     },
     "execution_count": 149,
     "metadata": {},
     "output_type": "execute_result"
    }
   ],
   "source": [
    "max(results)"
   ]
  },
  {
   "cell_type": "code",
   "execution_count": null,
   "metadata": {},
   "outputs": [],
   "source": []
  }
 ],
 "metadata": {
  "kernelspec": {
   "display_name": "Python 3",
   "language": "python",
   "name": "python3"
  },
  "language_info": {
   "codemirror_mode": {
    "name": "ipython",
    "version": 3
   },
   "file_extension": ".py",
   "mimetype": "text/x-python",
   "name": "python",
   "nbconvert_exporter": "python",
   "pygments_lexer": "ipython3",
   "version": "3.5.2"
  }
 },
 "nbformat": 4,
 "nbformat_minor": 2
}
